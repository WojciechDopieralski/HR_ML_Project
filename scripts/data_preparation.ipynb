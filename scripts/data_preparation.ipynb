{
 "cells": [
  {
   "cell_type": "code",
   "execution_count": 22,
   "metadata": {},
   "outputs": [],
   "source": [
    "import pandas as pd\n",
    "import numpy as np\n",
    "import pickle\n",
    "from sklearn.model_selection import train_test_split"
   ]
  },
  {
   "cell_type": "code",
   "execution_count": 23,
   "metadata": {},
   "outputs": [],
   "source": [
    "file_dir = \"../data/HR.csv\"\n",
    "HR_data = pd.read_csv(file_dir)"
   ]
  },
  {
   "cell_type": "code",
   "execution_count": 34,
   "metadata": {},
   "outputs": [],
   "source": [
    "category_columns = ['sales', 'salary']\n",
    "zero_one_columns = ['RandD', 'accounting', 'hr', 'management', 'marketing', 'product_mng', 'sales', 'support', 'technical', 'low', 'medium']"
   ]
  },
  {
   "cell_type": "code",
   "execution_count": 25,
   "metadata": {},
   "outputs": [],
   "source": [
    "for col in category_columns:\n",
    "    HR_data[col] = HR_data[col].astype('category')"
   ]
  },
  {
   "cell_type": "code",
   "execution_count": 26,
   "metadata": {},
   "outputs": [],
   "source": [
    "dummy_sales = pd.get_dummies(HR_data['sales'], drop_first=True, dtype = bool)\n",
    "dummy_salary = pd.get_dummies(HR_data['salary'], drop_first=True, dtype = bool)"
   ]
  },
  {
   "cell_type": "code",
   "execution_count": 30,
   "metadata": {},
   "outputs": [],
   "source": [
    "HR_oneHotEncoding = pd.concat([HR_data.drop(category_columns, axis = 1), dummy_sales, dummy_salary], axis = 1)"
   ]
  },
  {
   "cell_type": "code",
   "execution_count": 35,
   "metadata": {},
   "outputs": [],
   "source": [
    "for col in zero_one_columns:\n",
    "    HR_oneHotEncoding[col] = HR_oneHotEncoding[col].astype(int)"
   ]
  },
  {
   "cell_type": "code",
   "execution_count": 37,
   "metadata": {},
   "outputs": [],
   "source": [
    "HR_OneHotEnc_path = \"../data/HR_OneHotEnco.pkl\"\n",
    "\n",
    "HR_oneHotEncoding.to_pickle(HR_OneHotEnc_path)"
   ]
  },
  {
   "cell_type": "code",
   "execution_count": 38,
   "metadata": {},
   "outputs": [],
   "source": [
    "features = HR_oneHotEncoding.columns.tolist()\n",
    "features.remove('left')"
   ]
  },
  {
   "cell_type": "code",
   "execution_count": 39,
   "metadata": {},
   "outputs": [],
   "source": [
    "target = 'left'"
   ]
  },
  {
   "cell_type": "code",
   "execution_count": 40,
   "metadata": {},
   "outputs": [],
   "source": [
    "X_train, X_test, y_train, y_test = train_test_split(HR_oneHotEncoding, HR_oneHotEncoding[target], test_size = 0.3, random_state = 0)"
   ]
  },
  {
   "cell_type": "code",
   "execution_count": 41,
   "metadata": {},
   "outputs": [],
   "source": [
    "X_train.to_pickle(\"../data/HR_Xtrain_30proc.pkl\")\n",
    "X_test.to_pickle(\"../data/HR_Xtest_30proc.pkl\")\n",
    "y_train.to_pickle(\"../data/HR_Ytrain_30proc.pkl\")\n",
    "y_test.to_pickle(\"../data/HR_Ytest_30proc.pkl\")"
   ]
  },
  {
   "cell_type": "code",
   "execution_count": null,
   "metadata": {},
   "outputs": [],
   "source": []
  }
 ],
 "metadata": {
  "kernelspec": {
   "display_name": "Python 3",
   "language": "python",
   "name": "python3"
  },
  "language_info": {
   "codemirror_mode": {
    "name": "ipython",
    "version": 3
   },
   "file_extension": ".py",
   "mimetype": "text/x-python",
   "name": "python",
   "nbconvert_exporter": "python",
   "pygments_lexer": "ipython3",
   "version": "3.7.6"
  }
 },
 "nbformat": 4,
 "nbformat_minor": 4
}
